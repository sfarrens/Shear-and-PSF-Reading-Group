{
 "cells": [
  {
   "cell_type": "code",
   "execution_count": 1,
   "metadata": {},
   "outputs": [],
   "source": [
    "import numpy as np\n",
    "from astropy.convolution import AiryDisk2DKernel\n",
    "from scipy.special import jv\n"
   ]
  },
  {
   "cell_type": "code",
   "execution_count": 2,
   "metadata": {},
   "outputs": [],
   "source": [
    "import matplotlib.pyplot as plt\n",
    "import matplotlib.colors as colors\n",
    "from ipywidgets import interact"
   ]
  },
  {
   "cell_type": "code",
   "execution_count": 3,
   "metadata": {},
   "outputs": [],
   "source": [
    "def make_airy(radius, image_size=101):\n",
    "    \n",
    "    image_size = np.array([image_size] * 2)\n",
    "    image_centre = image_size // 2\n",
    "    \n",
    "    disk = np.around(AiryDisk2DKernel(radius).array, 6)\n",
    "    \n",
    "    if disk.size < 10201:\n",
    "        padding = (image_size[0] - disk.shape[0]) // 2\n",
    "        print (padding)\n",
    "        disk = np.pad(disk, padding)\n",
    "        \n",
    "    elif disk.size > 10201:\n",
    "        crop = tuple([slice(*val) for val in np.array([image_centre - 50, image_centre + 50]).T])\n",
    "        disk = disk[crop]\n",
    "        \n",
    "    disk[disk == 0.0] = disk[disk > 0.0].min()\n",
    "    \n",
    "    norm = colors.LogNorm()\n",
    "    cmap = 'magma'\n",
    "    \n",
    "    plt.imshow(disk, interpolation='none', norm=norm, cmap=cmap, origin='lower')\n",
    "    plt.colorbar()\n",
    "    plt.show()"
   ]
  },
  {
   "cell_type": "code",
   "execution_count": 4,
   "metadata": {},
   "outputs": [
    {
     "name": "stdout",
     "output_type": "stream",
     "text": [
      "10\n"
     ]
    },
    {
     "data": {
      "image/png": "[encoded data removed]",
      "text/plain": [
       "<Figure size 432x288 with 2 Axes>"
      ]
     },
     "metadata": {
      "needs_background": "light"
     },
     "output_type": "display_data"
    }
   ],
   "source": [
    "x = make_airy(10)"
   ]
  },
  {
   "cell_type": "markdown",
   "metadata": {},
   "source": [
    "## Airy PSF\n",
    "\n",
    "The intensity of the Airy pattern follows the Fraunhofer diffraction pattern of a circular aperture, given by the squared modulus of the Fourier transform of the circular aperture:\n",
    "\n",
    "$$I(\\theta) = I_0 \\left[\\frac{2J_1(ka\\sin\\theta)}{ka\\sin\\theta}\\right]^2$$\n",
    "\n",
    "where $I_0$ is the maximum intensity of the pattern at the Airy disc center, $J_1$ is the Bessel function of the first kind of order one, $k = 2 \\pi/\\lambda$ is the wavenumber, $a$ is the radius of the aperture, and $\\theta$  is the angle of observation, *i.e.* the angle between the axis of the circular aperture and the line between aperture center and observation point."
   ]
  },
  {
   "cell_type": "code",
   "execution_count": 5,
   "metadata": {},
   "outputs": [],
   "source": [
    "def airy_intensity(max_intensity, aperture_size, wavelength, obs_angle):\n",
    "    \"\"\"Airy PSF\n",
    "    \n",
    "    Parameters\n",
    "    ----------\n",
    "    max_intensity: float\n",
    "        Maximum intensity\n",
    "    aperture_size: float\n",
    "        Diameter of the aperature of the optical system in nanometres (nm)\n",
    "    wavelength: float\n",
    "        Wavelength of the light in nanometres (nm)\n",
    "    obs_angle: float\n",
    "        Angle of observation in degrees (deg)\n",
    "    \n",
    "    Returns\n",
    "    -------\n",
    "    float\n",
    "        Airy intensity \n",
    "    \n",
    "    \"\"\"\n",
    "    \n",
    "    # Convert angle to radians\n",
    "    obs_angle = obs_angle * np.pi / 180.0\n",
    "    # \n",
    "    x = (2.0 * np.pi * aperture_size / wavelength) * np.sin(obs_angle)\n",
    "    \n",
    "    if isinstance(x, float) and x == 0.0:\n",
    "        return 1.0\n",
    "    elif isinstance(x, np.ndarray) and np.any(x == 1.0):\n",
    "        np.ones(x.size)\n",
    "    else:\n",
    "        return max_intensity * (2.0 * jv(1, x) / x ) ** 2 "
   ]
  },
  {
   "cell_type": "code",
   "execution_count": 6,
   "metadata": {},
   "outputs": [
    {
     "data": {
      "application/vnd.jupyter.widget-view+json": {
       "model_id": "9e0c4e3192da43b18dfedee7d43013f3",
       "version_major": 2,
       "version_minor": 0
      },
      "text/plain": [
       "interactive(children=(IntSlider(value=3000, description='aperture_size', max=5000, min=1000, step=1000), IntSl…"
      ]
     },
     "metadata": {},
     "output_type": "display_data"
    }
   ],
   "source": [
    "@interact(aperture_size=(1000, 5000, 1000), wavelength=(300, 900, 100))\n",
    "def airy_pattern_1d(aperture_size, wavelength):\n",
    "    \n",
    "    angles = np.linspace(-90, 90, 1000)\n",
    "    intensities = np.array(list(map(lambda angle: airy_intensity(1.0, aperture_size, wavelength, angle), angles)))\n",
    "    \n",
    "    plt.plot(angles, intensities)\n",
    "    plt.title('Airy Pattern in 1D', fontsize=20)\n",
    "    plt.xlabel(r'$\\theta$', fontsize=18)\n",
    "    plt.ylabel(r'I$(\\theta)$', fontsize=18)\n",
    "    plt.show()"
   ]
  },
  {
   "cell_type": "code",
   "execution_count": 7,
   "metadata": {},
   "outputs": [
    {
     "data": {
      "application/vnd.jupyter.widget-view+json": {
       "model_id": "8b0de00c615d4372bc5e5a2adc5b55b6",
       "version_major": 2,
       "version_minor": 0
      },
      "text/plain": [
       "interactive(children=(IntSlider(value=3000, description='aperture_size', max=5000, min=1000, step=1000), IntSl…"
      ]
     },
     "metadata": {},
     "output_type": "display_data"
    }
   ],
   "source": [
    "@interact(aperture_size=(1000, 5000, 1000), wavelength=(300, 900, 100), normalisation=['Log', 'None'])\n",
    "def airy_pattern_2d(aperture_size, wavelength, normalisation='Log'):\n",
    "    \n",
    "    def angle_grid(n_points):\n",
    "        # make sure n is odd\n",
    "        spacing = np.linspace(-63.6, 63.63, n_points)\n",
    "        x, y = np.meshgrid(spacing, spacing)\n",
    "\n",
    "        return np.sqrt(x ** 2 + y ** 2)\n",
    "    \n",
    "    image_size = 101\n",
    "    angles = angle_grid(image_size)\n",
    "            \n",
    "    disk = airy_intensity(1.0, aperture_size, wavelength, angles)\n",
    "    \n",
    "    if normalisation == 'Log':\n",
    "        norm = colors.LogNorm()\n",
    "    else:\n",
    "        norm = None\n",
    "    cmap = 'magma'\n",
    "    \n",
    "    plt.imshow(disk, interpolation='none', norm=norm, cmap=cmap, origin='lower')\n",
    "    plt.colorbar()\n",
    "    plt.show()"
   ]
  },
  {
   "cell_type": "markdown",
   "metadata": {},
   "source": [
    "https://www.sciencedirect.com/topics/engineering/airy-disk"
   ]
  },
  {
   "cell_type": "code",
   "execution_count": null,
   "metadata": {},
   "outputs": [],
   "source": []
  }
 ],
 "metadata": {
  "kernelspec": {
   "display_name": "Python 3",
   "language": "python",
   "name": "python3"
  },
  "language_info": {
   "codemirror_mode": {
    "name": "ipython",
    "version": 3
   },
   "file_extension": ".py",
   "mimetype": "text/x-python",
   "name": "python",
   "nbconvert_exporter": "python",
   "pygments_lexer": "ipython3",
   "version": "3.8.6"
  }
 },
 "nbformat": 4,
 "nbformat_minor": 4
}
